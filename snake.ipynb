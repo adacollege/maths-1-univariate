{
 "cells": [
  {
   "cell_type": "code",
   "execution_count": null,
   "metadata": {
    "hide_input": false,
    "slideshow": {
     "slide_type": "notes"
    }
   },
   "outputs": [],
   "source": [
    "# We'll need random numbers\n",
    "import random"
   ]
  },
  {
   "cell_type": "markdown",
   "metadata": {
    "slideshow": {
     "slide_type": "slide"
    }
   },
   "source": [
    "# Snake\n",
    "\n",
    "A round of snake goes like this\n",
    "\n",
    "* Everyone stands up\n",
    "* We keep rolling two dice and adding them to a running total\n",
    "* You can choose to sit down and take that running total as your score for the round\n",
    "* **Except** if either of the dice shows a $1$ then if you're still standing you score $0$\n",
    "\n",
    "Snake is usually played over five rounds `S N A K E` and the grand total is your final score."
   ]
  },
  {
   "cell_type": "markdown",
   "metadata": {
    "slideshow": {
     "slide_type": "slide"
    }
   },
   "source": [
    "### Task\n",
    "\n",
    "> Write a function to roll two dice and add them together"
   ]
  },
  {
   "cell_type": "code",
   "execution_count": null,
   "metadata": {
    "hide_input": false,
    "scrolled": true,
    "slideshow": {
     "slide_type": "-"
    }
   },
   "outputs": [],
   "source": [
    "def snake_roll():\n",
    "    pass"
   ]
  },
  {
   "cell_type": "code",
   "execution_count": null,
   "metadata": {},
   "outputs": [],
   "source": [
    "snake_roll()"
   ]
  },
  {
   "cell_type": "markdown",
   "metadata": {
    "slideshow": {
     "slide_type": "subslide"
    }
   },
   "source": [
    "## How many rolls does an average round last?"
   ]
  },
  {
   "cell_type": "markdown",
   "metadata": {
    "slideshow": {
     "slide_type": "fragment"
    }
   },
   "source": [
    "### Task\n",
    "\n",
    "> Use this scaffolding to write a function which simulates a round of snake. It should return the number of rolls before a $1$ appears."
   ]
  },
  {
   "cell_type": "code",
   "execution_count": null,
   "metadata": {
    "slideshow": {
     "slide_type": "subslide"
    }
   },
   "outputs": [],
   "source": [
    "def snake_rolls():\n",
    "    rolls = 0\n",
    "    playing = True\n",
    "    while playing:\n",
    "        playing = False\n",
    "    return rolls\n",
    "snake_rolls()"
   ]
  },
  {
   "cell_type": "markdown",
   "metadata": {
    "slideshow": {
     "slide_type": "subslide"
    }
   },
   "source": [
    "### Discuss\n",
    "\n",
    "> How can you use `snake_rolls()` to decide what an \"average\" number of rolls is?\n",
    ">\n",
    "> What is a good Python type for collecting this data?"
   ]
  },
  {
   "cell_type": "code",
   "execution_count": null,
   "metadata": {
    "slideshow": {
     "slide_type": "subslide"
    }
   },
   "outputs": [],
   "source": [
    "# Play 100 rounds of snake\n",
    "data = [snake_rolls() for i in range(100)]\n",
    "data"
   ]
  },
  {
   "cell_type": "markdown",
   "metadata": {
    "slideshow": {
     "slide_type": "fragment"
    }
   },
   "source": [
    "### Task\n",
    "\n",
    "> Find the \"average\" number of rolls for a thousand rounds\n",
    ">\n",
    "> How could you improve this estimate?\n",
    ">\n",
    "> Is your method as efficient as it could be?"
   ]
  },
  {
   "cell_type": "markdown",
   "metadata": {
    "slideshow": {
     "slide_type": "subslide"
    }
   },
   "source": [
    "### Discuss\n",
    "\n",
    "> Which measure of average did you choose (mean, median, mode)?\n",
    ">\n",
    "> Why did you choose that measure of average?"
   ]
  },
  {
   "cell_type": "markdown",
   "metadata": {
    "slideshow": {
     "slide_type": "fragment"
    }
   },
   "source": [
    "### Next steps\n",
    "\n",
    "In `snake meets pandas` we'll use a standard data analysis package to explore our game data further."
   ]
  }
 ],
 "metadata": {
  "celltoolbar": "Slideshow",
  "kernelspec": {
   "display_name": "Python 3",
   "language": "python",
   "name": "python3"
  },
  "language_info": {
   "codemirror_mode": {
    "name": "ipython",
    "version": 3
   },
   "file_extension": ".py",
   "mimetype": "text/x-python",
   "name": "python",
   "nbconvert_exporter": "python",
   "pygments_lexer": "ipython3",
   "version": "3.6.8"
  }
 },
 "nbformat": 4,
 "nbformat_minor": 2
}
