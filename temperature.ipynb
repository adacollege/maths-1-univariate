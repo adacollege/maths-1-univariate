{
 "cells": [
  {
   "cell_type": "code",
   "execution_count": null,
   "metadata": {},
   "outputs": [],
   "source": [
    "import pandas as pd\n",
    "%matplotlib inline"
   ]
  },
  {
   "cell_type": "markdown",
   "metadata": {},
   "source": [
    "# How do you know when you're really ill?\n",
    "\n",
    "Real data is rarely as convenient as it has been so far. Often you'll have to work a bit harder to get your data into `pandas`.\n",
    "\n",
    "For example, [this data on body temperature](https://www.stem.org.uk/resources/elibrary/resource/75909/body-temperature) is embedded in a table in a doc.\n",
    "\n",
    "Your first job will be to get it into a more useful format."
   ]
  },
  {
   "cell_type": "code",
   "execution_count": null,
   "metadata": {},
   "outputs": [],
   "source": [
    "df = pd.read_csv(\"temperature.csv\")\n",
    "df"
   ]
  },
  {
   "cell_type": "markdown",
   "metadata": {},
   "source": [
    "## Now what?\n",
    "\n",
    "* What visualisations?\n",
    "* Which measure(s) of location?\n",
    "* Which measure(s) of variation?"
   ]
  },
  {
   "cell_type": "markdown",
   "metadata": {},
   "source": [
    "## Measuring 'unusualness'\n",
    "\n",
    "* Quantiles\n",
    "* Standardisation"
   ]
  }
 ],
 "metadata": {
  "kernelspec": {
   "display_name": "Python 3",
   "language": "python",
   "name": "python3"
  },
  "language_info": {
   "codemirror_mode": {
    "name": "ipython",
    "version": 3
   },
   "file_extension": ".py",
   "mimetype": "text/x-python",
   "name": "python",
   "nbconvert_exporter": "python",
   "pygments_lexer": "ipython3",
   "version": "3.6.8"
  }
 },
 "nbformat": 4,
 "nbformat_minor": 2
}
