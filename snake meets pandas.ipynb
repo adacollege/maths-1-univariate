{
 "cells": [
  {
   "cell_type": "code",
   "execution_count": null,
   "metadata": {},
   "outputs": [],
   "source": [
    "import random"
   ]
  },
  {
   "cell_type": "markdown",
   "metadata": {},
   "source": [
    "# snake meets pandas\n",
    "\n",
    "### Task\n",
    "\n",
    "> Adapt your `snake_rolls` function to create a `snake_score` function which returns the score reached in a round just *before* a 1"
   ]
  },
  {
   "cell_type": "code",
   "execution_count": null,
   "metadata": {},
   "outputs": [],
   "source": [
    "def snake_score():\n",
    "    rolls = 0\n",
    "    score = 0\n",
    "    playing = True\n",
    "    while playing:\n",
    "        playing = False\n",
    "    return score\n",
    "snake_score()"
   ]
  },
  {
   "cell_type": "markdown",
   "metadata": {},
   "source": [
    "## pandas\n",
    "\n",
    "`pandas` is the industry-standard Python package for doing data analysis"
   ]
  },
  {
   "cell_type": "code",
   "execution_count": null,
   "metadata": {},
   "outputs": [],
   "source": [
    "# 'as' allows us to refer to pd instead of having to type pandas every time\n",
    "import pandas as pd"
   ]
  },
  {
   "cell_type": "code",
   "execution_count": null,
   "metadata": {
    "scrolled": false
   },
   "outputs": [],
   "source": [
    "# Get some data as usual\n",
    "data = []\n",
    "for _ in range(1000):\n",
    "    data.append(snake_score())"
   ]
  },
  {
   "cell_type": "markdown",
   "metadata": {},
   "source": [
    "We could have done this without the explicit loop, using Python's list comprehension syntax\n",
    "> `[snake_score() for _ in range(1000)]`"
   ]
  },
  {
   "cell_type": "code",
   "execution_count": null,
   "metadata": {},
   "outputs": [],
   "source": [
    "# create a pandas Series object from the data\n",
    "data_series = pd.Series(data)\n",
    "data_series.head(5)"
   ]
  },
  {
   "cell_type": "markdown",
   "metadata": {
    "hide_input": true
   },
   "source": [
    "### Task\n",
    "\n",
    "> Find the mean and median for your data\n",
    ">\n",
    "> Are they similar? Different? What does this suggest?\n",
    ">\n",
    "> Use `data_series.hist()` to look at the distribution of scores"
   ]
  }
 ],
 "metadata": {
  "kernelspec": {
   "display_name": "Python 3",
   "language": "python",
   "name": "python3"
  },
  "language_info": {
   "codemirror_mode": {
    "name": "ipython",
    "version": 3
   },
   "file_extension": ".py",
   "mimetype": "text/x-python",
   "name": "python",
   "nbconvert_exporter": "python",
   "pygments_lexer": "ipython3",
   "version": "3.6.8"
  }
 },
 "nbformat": 4,
 "nbformat_minor": 2
}
