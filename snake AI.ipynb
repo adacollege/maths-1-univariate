{
 "cells": [
  {
   "cell_type": "markdown",
   "metadata": {
    "slideshow": {
     "slide_type": "slide"
    }
   },
   "source": [
    "# Creating a (fairly simple) Snake AI player"
   ]
  },
  {
   "cell_type": "markdown",
   "metadata": {
    "slideshow": {
     "slide_type": "-"
    }
   },
   "source": [
    "### Task\n",
    "\n",
    "> Use a flowchart *or* write pseudo-code to describe a solo player playing one round of Snake, including when to sit down"
   ]
  },
  {
   "cell_type": "code",
   "execution_count": null,
   "metadata": {
    "slideshow": {
     "slide_type": "skip"
    }
   },
   "outputs": [],
   "source": [
    "import random"
   ]
  },
  {
   "cell_type": "markdown",
   "metadata": {},
   "source": [
    "### Task\n",
    "\n",
    "> Use the scaffolding to implement your algorithm"
   ]
  },
  {
   "cell_type": "code",
   "execution_count": null,
   "metadata": {
    "slideshow": {
     "slide_type": "slide"
    }
   },
   "outputs": [],
   "source": [
    "def snake_round():\n",
    "    rolls = 0\n",
    "    score = 0\n",
    "    playing = True\n",
    "    # Repeat until our bot decides to sit down\n",
    "    while playing:\n",
    "        # next roll\n",
    "        rolls += 1\n",
    "        # roll the dice\n",
    "        a = random.randint(1,6)\n",
    "        b = random.randint(1,6)\n",
    "        # if (it's not the first round) and (we rolled a one)\n",
    "        if rolls>1 and (a==1 or b==1):\n",
    "            # we get zero\n",
    "            score = 0\n",
    "            # so don't carry on\n",
    "            playing = False\n",
    "        else:\n",
    "            # Otherwise, add the dice to the total\n",
    "            score += a + b\n",
    "            # This where ALL the strategy happens\n",
    "            if rolls>100 or score>1000:\n",
    "                playing = False\n",
    "    return score\n",
    "snake_round()"
   ]
  },
  {
   "cell_type": "markdown",
   "metadata": {
    "slideshow": {
     "slide_type": "subslide"
    }
   },
   "source": [
    "### Task\n",
    "\n",
    "> Complete the function `snake_game`. Your bot should play five rounds of Snake and return the total score."
   ]
  },
  {
   "cell_type": "code",
   "execution_count": null,
   "metadata": {
    "slideshow": {
     "slide_type": "-"
    }
   },
   "outputs": [],
   "source": [
    "def snake_game():\n",
    "    pass\n",
    "snake_game()"
   ]
  },
  {
   "cell_type": "markdown",
   "metadata": {
    "slideshow": {
     "slide_type": "subslide"
    }
   },
   "source": [
    "## A/B testing\n",
    "\n",
    "If you change your strategy, how will you know whether your bot is a better or worse player?"
   ]
  },
  {
   "cell_type": "code",
   "execution_count": null,
   "metadata": {
    "slideshow": {
     "slide_type": "subslide"
    }
   },
   "outputs": [],
   "source": [
    "import pandas as pd"
   ]
  },
  {
   "cell_type": "code",
   "execution_count": null,
   "metadata": {
    "slideshow": {
     "slide_type": "fragment"
    }
   },
   "outputs": [],
   "source": [
    "snakeA = pd.Series([snake_game() for _ in range(10000)])"
   ]
  },
  {
   "cell_type": "code",
   "execution_count": null,
   "metadata": {
    "slideshow": {
     "slide_type": "subslide"
    }
   },
   "outputs": [],
   "source": [
    "snakeA.head()"
   ]
  },
  {
   "cell_type": "markdown",
   "metadata": {
    "slideshow": {
     "slide_type": "subslide"
    }
   },
   "source": [
    "### Discuss\n",
    "\n",
    "> Which is a more useful measure for comparing your strategies?\n",
    ">\n",
    "> `mean`, `median`, `max`, `min`, something else?"
   ]
  }
 ],
 "metadata": {
  "celltoolbar": "Slideshow",
  "kernelspec": {
   "display_name": "Python 3",
   "language": "python",
   "name": "python3"
  },
  "language_info": {
   "codemirror_mode": {
    "name": "ipython",
    "version": 3
   },
   "file_extension": ".py",
   "mimetype": "text/x-python",
   "name": "python",
   "nbconvert_exporter": "python",
   "pygments_lexer": "ipython3",
   "version": "3.6.8"
  }
 },
 "nbformat": 4,
 "nbformat_minor": 2
}
